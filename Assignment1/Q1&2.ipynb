{
  "cells": [
    {
      "cell_type": "code",
      "source": [
        "\n",
        "import warnings\n",
        "warnings.filterwarnings('ignore')\n",
        "!pip install idx2numpy"
      ],
      "metadata": {
        "id": "uFXkmd_3dfob",
        "colab": {
          "base_uri": "https://localhost:8080/"
        },
        "outputId": "1a15c94a-e362-4edf-cf07-7d5ef0403900"
      },
      "id": "uFXkmd_3dfob",
      "execution_count": null,
      "outputs": [
        {
          "output_type": "stream",
          "name": "stdout",
          "text": [
            "Collecting idx2numpy\n",
            "  Downloading idx2numpy-1.2.3.tar.gz (6.8 kB)\n",
            "Requirement already satisfied: numpy in /usr/local/lib/python3.7/dist-packages (from idx2numpy) (1.21.5)\n",
            "Requirement already satisfied: six in /usr/local/lib/python3.7/dist-packages (from idx2numpy) (1.15.0)\n",
            "Building wheels for collected packages: idx2numpy\n",
            "  Building wheel for idx2numpy (setup.py) ... \u001b[?25l\u001b[?25hdone\n",
            "  Created wheel for idx2numpy: filename=idx2numpy-1.2.3-py3-none-any.whl size=7917 sha256=8013b3d1b5017077fa7296276cd8329f9885d1fadbb0940e8419bdb5af89a19b\n",
            "  Stored in directory: /root/.cache/pip/wheels/1a/ce/ad/d5e95a35cfe34149aade5e500f2edd535c0566d79e9a8e1d8a\n",
            "Successfully built idx2numpy\n",
            "Installing collected packages: idx2numpy\n",
            "Successfully installed idx2numpy-1.2.3\n"
          ]
        }
      ]
    },
    {
      "cell_type": "markdown",
      "id": "2df61915",
      "metadata": {
        "id": "2df61915"
      },
      "source": [
        "\n",
        "#                                                           **Q1**"
      ]
    },
    {
      "cell_type": "code",
      "execution_count": null,
      "id": "af5e5994",
      "metadata": {
        "id": "af5e5994",
        "outputId": "325cdd1e-443f-4f71-b989-dd7bb1ece75e",
        "colab": {
          "base_uri": "https://localhost:8080/",
          "height": 423
        }
      },
      "outputs": [
        {
          "output_type": "execute_result",
          "data": {
            "text/html": [
              "\n",
              "  <div id=\"df-395b5ca9-57e0-44f6-96b5-a30ec8042a94\">\n",
              "    <div class=\"colab-df-container\">\n",
              "      <div>\n",
              "<style scoped>\n",
              "    .dataframe tbody tr th:only-of-type {\n",
              "        vertical-align: middle;\n",
              "    }\n",
              "\n",
              "    .dataframe tbody tr th {\n",
              "        vertical-align: top;\n",
              "    }\n",
              "\n",
              "    .dataframe thead th {\n",
              "        text-align: right;\n",
              "    }\n",
              "</style>\n",
              "<table border=\"1\" class=\"dataframe\">\n",
              "  <thead>\n",
              "    <tr style=\"text-align: right;\">\n",
              "      <th></th>\n",
              "      <th>sepal length</th>\n",
              "      <th>sepal width</th>\n",
              "      <th>petal length</th>\n",
              "      <th>petal width</th>\n",
              "      <th>class</th>\n",
              "    </tr>\n",
              "  </thead>\n",
              "  <tbody>\n",
              "    <tr>\n",
              "      <th>0</th>\n",
              "      <td>5.1</td>\n",
              "      <td>3.5</td>\n",
              "      <td>1.4</td>\n",
              "      <td>0.2</td>\n",
              "      <td>Iris-setosa</td>\n",
              "    </tr>\n",
              "    <tr>\n",
              "      <th>1</th>\n",
              "      <td>4.9</td>\n",
              "      <td>3.0</td>\n",
              "      <td>1.4</td>\n",
              "      <td>0.2</td>\n",
              "      <td>Iris-setosa</td>\n",
              "    </tr>\n",
              "    <tr>\n",
              "      <th>2</th>\n",
              "      <td>4.7</td>\n",
              "      <td>3.2</td>\n",
              "      <td>1.3</td>\n",
              "      <td>0.2</td>\n",
              "      <td>Iris-setosa</td>\n",
              "    </tr>\n",
              "    <tr>\n",
              "      <th>3</th>\n",
              "      <td>4.6</td>\n",
              "      <td>3.1</td>\n",
              "      <td>1.5</td>\n",
              "      <td>0.2</td>\n",
              "      <td>Iris-setosa</td>\n",
              "    </tr>\n",
              "    <tr>\n",
              "      <th>4</th>\n",
              "      <td>5.0</td>\n",
              "      <td>3.6</td>\n",
              "      <td>1.4</td>\n",
              "      <td>0.2</td>\n",
              "      <td>Iris-setosa</td>\n",
              "    </tr>\n",
              "    <tr>\n",
              "      <th>...</th>\n",
              "      <td>...</td>\n",
              "      <td>...</td>\n",
              "      <td>...</td>\n",
              "      <td>...</td>\n",
              "      <td>...</td>\n",
              "    </tr>\n",
              "    <tr>\n",
              "      <th>145</th>\n",
              "      <td>6.7</td>\n",
              "      <td>3.0</td>\n",
              "      <td>5.2</td>\n",
              "      <td>2.3</td>\n",
              "      <td>Iris-virginica</td>\n",
              "    </tr>\n",
              "    <tr>\n",
              "      <th>146</th>\n",
              "      <td>6.3</td>\n",
              "      <td>2.5</td>\n",
              "      <td>5.0</td>\n",
              "      <td>1.9</td>\n",
              "      <td>Iris-virginica</td>\n",
              "    </tr>\n",
              "    <tr>\n",
              "      <th>147</th>\n",
              "      <td>6.5</td>\n",
              "      <td>3.0</td>\n",
              "      <td>5.2</td>\n",
              "      <td>2.0</td>\n",
              "      <td>Iris-virginica</td>\n",
              "    </tr>\n",
              "    <tr>\n",
              "      <th>148</th>\n",
              "      <td>6.2</td>\n",
              "      <td>3.4</td>\n",
              "      <td>5.4</td>\n",
              "      <td>2.3</td>\n",
              "      <td>Iris-virginica</td>\n",
              "    </tr>\n",
              "    <tr>\n",
              "      <th>149</th>\n",
              "      <td>5.9</td>\n",
              "      <td>3.0</td>\n",
              "      <td>5.1</td>\n",
              "      <td>1.8</td>\n",
              "      <td>Iris-virginica</td>\n",
              "    </tr>\n",
              "  </tbody>\n",
              "</table>\n",
              "<p>150 rows × 5 columns</p>\n",
              "</div>\n",
              "      <button class=\"colab-df-convert\" onclick=\"convertToInteractive('df-395b5ca9-57e0-44f6-96b5-a30ec8042a94')\"\n",
              "              title=\"Convert this dataframe to an interactive table.\"\n",
              "              style=\"display:none;\">\n",
              "        \n",
              "  <svg xmlns=\"http://www.w3.org/2000/svg\" height=\"24px\"viewBox=\"0 0 24 24\"\n",
              "       width=\"24px\">\n",
              "    <path d=\"M0 0h24v24H0V0z\" fill=\"none\"/>\n",
              "    <path d=\"M18.56 5.44l.94 2.06.94-2.06 2.06-.94-2.06-.94-.94-2.06-.94 2.06-2.06.94zm-11 1L8.5 8.5l.94-2.06 2.06-.94-2.06-.94L8.5 2.5l-.94 2.06-2.06.94zm10 10l.94 2.06.94-2.06 2.06-.94-2.06-.94-.94-2.06-.94 2.06-2.06.94z\"/><path d=\"M17.41 7.96l-1.37-1.37c-.4-.4-.92-.59-1.43-.59-.52 0-1.04.2-1.43.59L10.3 9.45l-7.72 7.72c-.78.78-.78 2.05 0 2.83L4 21.41c.39.39.9.59 1.41.59.51 0 1.02-.2 1.41-.59l7.78-7.78 2.81-2.81c.8-.78.8-2.07 0-2.86zM5.41 20L4 18.59l7.72-7.72 1.47 1.35L5.41 20z\"/>\n",
              "  </svg>\n",
              "      </button>\n",
              "      \n",
              "  <style>\n",
              "    .colab-df-container {\n",
              "      display:flex;\n",
              "      flex-wrap:wrap;\n",
              "      gap: 12px;\n",
              "    }\n",
              "\n",
              "    .colab-df-convert {\n",
              "      background-color: #E8F0FE;\n",
              "      border: none;\n",
              "      border-radius: 50%;\n",
              "      cursor: pointer;\n",
              "      display: none;\n",
              "      fill: #1967D2;\n",
              "      height: 32px;\n",
              "      padding: 0 0 0 0;\n",
              "      width: 32px;\n",
              "    }\n",
              "\n",
              "    .colab-df-convert:hover {\n",
              "      background-color: #E2EBFA;\n",
              "      box-shadow: 0px 1px 2px rgba(60, 64, 67, 0.3), 0px 1px 3px 1px rgba(60, 64, 67, 0.15);\n",
              "      fill: #174EA6;\n",
              "    }\n",
              "\n",
              "    [theme=dark] .colab-df-convert {\n",
              "      background-color: #3B4455;\n",
              "      fill: #D2E3FC;\n",
              "    }\n",
              "\n",
              "    [theme=dark] .colab-df-convert:hover {\n",
              "      background-color: #434B5C;\n",
              "      box-shadow: 0px 1px 3px 1px rgba(0, 0, 0, 0.15);\n",
              "      filter: drop-shadow(0px 1px 2px rgba(0, 0, 0, 0.3));\n",
              "      fill: #FFFFFF;\n",
              "    }\n",
              "  </style>\n",
              "\n",
              "      <script>\n",
              "        const buttonEl =\n",
              "          document.querySelector('#df-395b5ca9-57e0-44f6-96b5-a30ec8042a94 button.colab-df-convert');\n",
              "        buttonEl.style.display =\n",
              "          google.colab.kernel.accessAllowed ? 'block' : 'none';\n",
              "\n",
              "        async function convertToInteractive(key) {\n",
              "          const element = document.querySelector('#df-395b5ca9-57e0-44f6-96b5-a30ec8042a94');\n",
              "          const dataTable =\n",
              "            await google.colab.kernel.invokeFunction('convertToInteractive',\n",
              "                                                     [key], {});\n",
              "          if (!dataTable) return;\n",
              "\n",
              "          const docLinkHtml = 'Like what you see? Visit the ' +\n",
              "            '<a target=\"_blank\" href=https://colab.research.google.com/notebooks/data_table.ipynb>data table notebook</a>'\n",
              "            + ' to learn more about interactive tables.';\n",
              "          element.innerHTML = '';\n",
              "          dataTable['output_type'] = 'display_data';\n",
              "          await google.colab.output.renderOutput(dataTable, element);\n",
              "          const docLink = document.createElement('div');\n",
              "          docLink.innerHTML = docLinkHtml;\n",
              "          element.appendChild(docLink);\n",
              "        }\n",
              "      </script>\n",
              "    </div>\n",
              "  </div>\n",
              "  "
            ],
            "text/plain": [
              "     sepal length  sepal width  petal length  petal width           class\n",
              "0             5.1          3.5           1.4          0.2     Iris-setosa\n",
              "1             4.9          3.0           1.4          0.2     Iris-setosa\n",
              "2             4.7          3.2           1.3          0.2     Iris-setosa\n",
              "3             4.6          3.1           1.5          0.2     Iris-setosa\n",
              "4             5.0          3.6           1.4          0.2     Iris-setosa\n",
              "..            ...          ...           ...          ...             ...\n",
              "145           6.7          3.0           5.2          2.3  Iris-virginica\n",
              "146           6.3          2.5           5.0          1.9  Iris-virginica\n",
              "147           6.5          3.0           5.2          2.0  Iris-virginica\n",
              "148           6.2          3.4           5.4          2.3  Iris-virginica\n",
              "149           5.9          3.0           5.1          1.8  Iris-virginica\n",
              "\n",
              "[150 rows x 5 columns]"
            ]
          },
          "metadata": {},
          "execution_count": 139
        }
      ],
      "source": [
        "import pandas as pd\n",
        "import matplotlib.pyplot as plt\n",
        "%matplotlib inline\n",
        "\n",
        "# loading dataset\n",
        "\n",
        "df = pd.read_csv (r'/content/drive/MyDrive/ML Data/iris.data',names = [\"sepal length\",\"sepal width\",\"petal length\",\"petal width\",\"class\"])\n",
        "df"
      ]
    },
    {
      "cell_type": "markdown",
      "source": [
        "**Q1.1 b**"
      ],
      "metadata": {
        "id": "Dez6vFJiSl5u"
      },
      "id": "Dez6vFJiSl5u"
    },
    {
      "cell_type": "code",
      "execution_count": null,
      "id": "61bfcda1",
      "metadata": {
        "id": "61bfcda1",
        "outputId": "9a671fc7-4244-42c6-d05b-fbfbb2b8fe09",
        "colab": {
          "base_uri": "https://localhost:8080/"
        }
      },
      "outputs": [
        {
          "output_type": "stream",
          "name": "stdout",
          "text": [
            "<class 'pandas.core.frame.DataFrame'>\n",
            "RangeIndex: 150 entries, 0 to 149\n",
            "Data columns (total 5 columns):\n",
            " #   Column        Non-Null Count  Dtype  \n",
            "---  ------        --------------  -----  \n",
            " 0   sepal length  150 non-null    float64\n",
            " 1   sepal width   150 non-null    float64\n",
            " 2   petal length  150 non-null    float64\n",
            " 3   petal width   150 non-null    float64\n",
            " 4   class         150 non-null    object \n",
            "dtypes: float64(4), object(1)\n",
            "memory usage: 6.0+ KB\n"
          ]
        }
      ],
      "source": [
        "df.info()"
      ]
    },
    {
      "cell_type": "markdown",
      "source": [
        "### **Q1.1 c**"
      ],
      "metadata": {
        "id": "OrCEPwqsST6o"
      },
      "id": "OrCEPwqsST6o"
    },
    {
      "cell_type": "code",
      "execution_count": null,
      "id": "21607b26",
      "metadata": {
        "id": "21607b26",
        "outputId": "559a16e3-bb47-457d-d473-3fe2d7b9b4e0",
        "colab": {
          "base_uri": "https://localhost:8080/",
          "height": 407
        }
      },
      "outputs": [
        {
          "output_type": "display_data",
          "data": {
            "text/plain": [
              "<Figure size 1440x1440 with 0 Axes>"
            ]
          },
          "metadata": {}
        },
        {
          "output_type": "display_data",
          "data": {
            "image/png": "[encoded data removed]",
            "text/plain": [
              "<Figure size 576x432 with 4 Axes>"
            ]
          },
          "metadata": {
            "needs_background": "light"
          }
        }
      ],
      "source": [
        "\n",
        "df.iloc[:,:-1].hist(bins=30,figsize=(8,6))"
      ]
    },
    {
      "cell_type": "code",
      "source": [
        "classes=df[\"class\"].unique()\n",
        "class_count=np.array(df[\"class\"].value_counts())\n",
        "plt.bar(classes,class_count)\n",
        "plt.show()"
      ],
      "metadata": {
        "colab": {
          "base_uri": "https://localhost:8080/",
          "height": 265
        },
        "id": "fwxj_Pt5bD0Q",
        "outputId": "24efd37c-1a93-48fd-cc3f-88b066753382"
      },
      "id": "fwxj_Pt5bD0Q",
      "execution_count": null,
      "outputs": [
        {
          "output_type": "display_data",
          "data": {
            "image/png": "[encoded data removed]",
            "text/plain": [
              "<Figure size 432x288 with 1 Axes>"
            ]
          },
          "metadata": {
            "needs_background": "light"
          }
        }
      ]
    },
    {
      "cell_type": "markdown",
      "id": "f454fbd5",
      "metadata": {
        "id": "f454fbd5"
      },
      "source": [
        "### **Q1.2**"
      ]
    },
    {
      "cell_type": "code",
      "execution_count": null,
      "id": "a7e72563",
      "metadata": {
        "id": "a7e72563"
      },
      "outputs": [],
      "source": [
        "import idx2numpy\n",
        "import numpy as np\n",
        "train_img_3D = idx2numpy.convert_from_file('/content/drive/MyDrive/ML Data/train-images.idx3-ubyte')\n",
        "train_img=train_img_3D.flatten().reshape(60000,784)\n",
        "train_labels= idx2numpy.convert_from_file('/content/drive/MyDrive/ML Data/train-labels.idx1-ubyte')\n"
      ]
    },
    {
      "cell_type": "markdown",
      "source": [
        "**Q1.2. b**"
      ],
      "metadata": {
        "id": "MHS2nlEHTope"
      },
      "id": "MHS2nlEHTope"
    },
    {
      "cell_type": "code",
      "execution_count": null,
      "id": "2bf514a1",
      "metadata": {
        "id": "2bf514a1",
        "outputId": "c183f9cf-b52c-4327-8aae-72376f663069",
        "colab": {
          "base_uri": "https://localhost:8080/",
          "height": 216
        }
      },
      "outputs": [
        {
          "output_type": "display_data",
          "data": {
            "image/png": "[encoded data removed]",
            "text/plain": [
              "<Figure size 432x288 with 2 Axes>"
            ]
          },
          "metadata": {
            "needs_background": "light"
          }
        }
      ],
      "source": [
        "def display(image,label):\n",
        "    img=image.reshape(28,28);\n",
        "    plt.title(\"Image Representation for %d\" %(label))\n",
        "    plt.imshow(img);\n",
        "\n",
        "rand1= np.random.randint(60000)\n",
        "rand2= np.random.randint(60000)\n",
        "plt.subplot(1,2,1)\n",
        "display(train_img[rand1],train_labels[rand1])\n",
        "plt.subplot(1,2,2)\n",
        "display(train_img[rand2],train_labels[rand2])\n",
        "\n",
        "\n",
        "\n"
      ]
    },
    {
      "cell_type": "markdown",
      "source": [
        "**Q1.2. c**"
      ],
      "metadata": {
        "id": "rj1lg98QT56A"
      },
      "id": "rj1lg98QT56A"
    },
    {
      "cell_type": "code",
      "execution_count": null,
      "id": "b0064cca",
      "metadata": {
        "id": "b0064cca"
      },
      "outputs": [],
      "source": [
        "from sklearn.manifold import TSNE\n",
        "import seaborn as sn\n",
        "\n",
        "# taking only first 10000 datasets due to computation power unavailability\n",
        "data=train_img[:10000]\n",
        "labels=train_labels[:10000]\n",
        "\n",
        "model=TSNE(n_components=2, random_state=0)\n",
        "tsne_data = model.fit_transform(data)"
      ]
    },
    {
      "cell_type": "code",
      "execution_count": null,
      "id": "d79bc1d2",
      "metadata": {
        "id": "d79bc1d2",
        "outputId": "168631c2-0680-4b69-88b7-f856975083b0",
        "colab": {
          "base_uri": "https://localhost:8080/",
          "height": 426
        }
      },
      "outputs": [
        {
          "output_type": "display_data",
          "data": {
            "image/png": "[encoded data removed]",
            "text/plain": [
              "<Figure size 483.875x432 with 1 Axes>"
            ]
          },
          "metadata": {
            "needs_background": "light"
          }
        }
      ],
      "source": [
        "tsne_data = np.vstack((tsne_data.T, labels)).T\n",
        "tsne_df = pd.DataFrame(data=tsne_data, columns=(\"Dim_1\", \"Dim_2\", \"label\"))\n",
        "sn.FacetGrid(tsne_df, hue=\"label\", height=6).map(plt.scatter,\"Dim_1\",\"Dim_2\").add_legend().set_axis_labels(\"\",\"\")\n",
        "plt.show()"
      ]
    },
    {
      "cell_type": "markdown",
      "id": "fe0663dc",
      "metadata": {
        "id": "fe0663dc"
      },
      "source": [
        "Here, the scatter plot shows different clusters of the data and we can we can see the labels(0-9 numbers) which look similar to each other have their clusters closer to each other in comparison to the labels that look distinct . "
      ]
    },
    {
      "cell_type": "markdown",
      "id": "64192282",
      "metadata": {
        "id": "64192282"
      },
      "source": [
        "# **Q2**\n"
      ]
    },
    {
      "cell_type": "code",
      "execution_count": null,
      "id": "d6ff5600",
      "metadata": {
        "id": "d6ff5600"
      },
      "outputs": [],
      "source": [
        "from sklearn.model_selection import KFold\n",
        "from sklearn.model_selection import train_test_split\n",
        "from sklearn.preprocessing import StandardScaler\n",
        "import pandas as pd\n",
        "import matplotlib.pyplot as plt\n",
        "import numpy as np\n",
        "import seaborn as sns\n",
        "\n",
        "df=pd.read_csv(r'/content/drive/MyDrive/ML Data/abalone.data',names=['sex','length','diameter','height','whole height','shucked height','viscera height','shell weight','rings'])\n",
        "df_feature=df.iloc[:,:-1]\n",
        "df_feature=pd.get_dummies(df_feature)\n",
        "df_label=df.iloc[:,-1]\n",
        "#spliting data- 10% test and 90% training set\n",
        "train_x,test_x,train_y,test_y= train_test_split(df_feature,df_label,test_size=0.1)\n",
        "# train_x=np.array(train_x)\n",
        "# train_y=np.array(train_y)\n",
        "# test_x=np.array(test_x)\n",
        "# test_y=np.array(test_y)\n",
        "# cols= [\"length\",\"diameter\",\"height\",\"whole height\",\"shucked height\",\"viscera height\",\"shell weight\"]\n",
        "# #standardizing test & data set\n",
        "# for i in cols:\n",
        "#   stand= StandardScaler().fit(train_x[[i]])\n",
        "#   train_x[i]=stand.transform(train_x[[i]])\n",
        "#   test_x[i]=stand.transform(test_x[[i]])\n",
        "\n",
        "train_x=np.array(train_x)\n",
        "train_y=np.array(train_y)\n",
        "test_x=np.array(test_x)\n",
        "test_y=np.array(test_y)\n",
        "\n",
        "\n",
        "\n",
        "\n",
        "\n",
        "\n",
        "\n"
      ]
    },
    {
      "cell_type": "code",
      "execution_count": null,
      "id": "13269f0e",
      "metadata": {
        "colab": {
          "base_uri": "https://localhost:8080/",
          "height": 832
        },
        "id": "13269f0e",
        "outputId": "fd42c367-7c4c-453e-f810-9b757f8042a2"
      },
      "outputs": [
        {
          "output_type": "execute_result",
          "data": {
            "text/plain": [
              "array([[<matplotlib.axes._subplots.AxesSubplot object at 0x7f99129efa50>,\n",
              "        <matplotlib.axes._subplots.AxesSubplot object at 0x7f99127ef990>,\n",
              "        <matplotlib.axes._subplots.AxesSubplot object at 0x7f9912822f50>],\n",
              "       [<matplotlib.axes._subplots.AxesSubplot object at 0x7f99127e2590>,\n",
              "        <matplotlib.axes._subplots.AxesSubplot object at 0x7f9912793b90>,\n",
              "        <matplotlib.axes._subplots.AxesSubplot object at 0x7f99127521d0>],\n",
              "       [<matplotlib.axes._subplots.AxesSubplot object at 0x7f9912707850>,\n",
              "        <matplotlib.axes._subplots.AxesSubplot object at 0x7f99126b9d90>,\n",
              "        <matplotlib.axes._subplots.AxesSubplot object at 0x7f99126b9dd0>],\n",
              "       [<matplotlib.axes._subplots.AxesSubplot object at 0x7f9912679510>,\n",
              "        <matplotlib.axes._subplots.AxesSubplot object at 0x7f9912663fd0>,\n",
              "        <matplotlib.axes._subplots.AxesSubplot object at 0x7f9912626650>]],\n",
              "      dtype=object)"
            ]
          },
          "metadata": {},
          "execution_count": 52
        },
        {
          "output_type": "display_data",
          "data": {
            "image/png": "[encoded data removed]",
            "text/plain": [
              "<Figure size 1440x720 with 12 Axes>"
            ]
          },
          "metadata": {
            "needs_background": "light"
          }
        }
      ],
      "source": [
        "df_feature.hist(bins=30,figsize=(20,10))"
      ]
    },
    {
      "cell_type": "markdown",
      "source": [
        "###**Q2. a**"
      ],
      "metadata": {
        "id": "y-ILx2g1iKtQ"
      },
      "id": "y-ILx2g1iKtQ"
    },
    {
      "cell_type": "code",
      "execution_count": null,
      "id": "1ea1f038",
      "metadata": {
        "colab": {
          "base_uri": "https://localhost:8080/",
          "height": 334
        },
        "id": "1ea1f038",
        "outputId": "70e8732d-edd1-4f19-b938-ca4b504e2320"
      },
      "outputs": [
        {
          "output_type": "stream",
          "name": "stdout",
          "text": [
            "[2.7518397620173887, 2.7461272384985183, 2.5091440751598926, 2.42595372595097, 2.1516971928510924]\n",
            "[2.704574317074139, 2.6699178570035844, 2.409060881101631, 2.3266616850197424, 2.05947750316725]\n",
            "[2.6287663270429658, 2.549526198984555, 2.2939342274883847, 2.2318721502000773, 2.005849138596549]\n",
            "[2.481985175847133, 2.3863949034957033, 2.1978023594045917, 2.1753016216408447, 2.0048336375287725]\n"
          ]
        },
        {
          "output_type": "display_data",
          "data": {
            "image/png": "[encoded data removed]",
            "text/plain": [
              "<Figure size 432x288 with 1 Axes>"
            ]
          },
          "metadata": {
            "needs_background": "light"
          }
        }
      ],
      "source": [
        "\n",
        "#5-fold implementation\n",
        "k = 5\n",
        "kf = KFold(n_splits=k, random_state=0,shuffle=True)\n",
        "col_x=train_x.shape[1]\n",
        "theta=np.zeros(col_x)\n",
        "\n",
        "\n",
        "#hypotheses function\n",
        "def h(x,theta):\n",
        "    return np.dot(x,theta)\n",
        "\n",
        "\n",
        "# k-fold Linear regression\n",
        "\n",
        "def kFoldLr(alpha,num_iteration):\n",
        "    rmse_models=[]\n",
        "    theta=np.zeros(col_x)\n",
        "    for train_set,val_set in kf.split(train_x):  \n",
        "        for itr_num in range(num_iteration):\n",
        "            for j in range(col_x):\n",
        "                grad_desc=0\n",
        "                for idx in train_set:\n",
        "                    grad_desc+= (train_y[idx]-h(train_x[idx],theta))*train_x[idx][j]\n",
        "                theta[j]= theta[j] + (alpha*grad_desc)\n",
        "            # cost function\n",
        "            # cost=0\n",
        "            # for idx in train_set:\n",
        "            #     cost+= (train_y[idx]-h(train_x[idx],theta))**2 \n",
        "            # cost += lemda*sum(np.absolute(theta))\n",
        "            # cost /= train_set.size\n",
        "            # print(\"cost for itr \",itr_num,\"= \",cost)\n",
        "        \n",
        "        \n",
        "        # rmse from validation set\n",
        "        err=0\n",
        "        for idx in val_set:\n",
        "            err+= (train_y[idx]-h(train_x[idx],theta))**2\n",
        "        err/= (val_set.size)        \n",
        "        err=err**0.5\n",
        "        rmse_models.append(err)\n",
        "    return theta,rmse_models           #return rmse values form 5 models\n",
        "\n",
        "\n",
        "iter=[5,10,20,50]\n",
        "\n",
        "for i in range(len(iter)):\n",
        "    w1,rmse=kFoldLr(0.001,iter[i])\n",
        "    sns.scatterplot(x=iter[i],y=rmse)\n",
        "    print(rmse)\n",
        "\n",
        "# here we have thake learning rate=0.001\n",
        "\n"
      ]
    },
    {
      "cell_type": "markdown",
      "source": [
        "###**Q2. b**"
      ],
      "metadata": {
        "id": "dvRvIfWGiX8K"
      },
      "id": "dvRvIfWGiX8K"
    },
    {
      "cell_type": "code",
      "source": [
        "                                              #lasso regression\n",
        "\n",
        "# k-fold Linear regression\n",
        "def lasso(alpha,num_iteration,lemda):\n",
        "    rmse_models=[]\n",
        "    theta=np.zeros(col_x)\n",
        "    for train_set,val_set in kf.split(train_x):  \n",
        "        for itr_num in range(num_iteration):\n",
        "            for j in range(col_x):\n",
        "                grad_desc=0\n",
        "                for idx in train_set:\n",
        "                    grad_desc+= (train_y[idx]-h(train_x[idx],theta))*train_x[idx][j]\n",
        "                theta[j]= theta[j] + (alpha*grad_desc) + lemda\n",
        "            # cost function\n",
        "            # cost=0\n",
        "            # for idx in train_set:\n",
        "            #     cost+= (train_y[idx]-h(train_x[idx],theta))**2 \n",
        "            # cost += lemda*sum(np.absolute(theta))\n",
        "            # cost /= train_set.size\n",
        "            # print(\"cost for itr \",itr_num,\"= \",cost)\n",
        "        \n",
        "        \n",
        "        # rmse from validation set\n",
        "        err=0\n",
        "        for idx in val_set:\n",
        "            err+= (train_y[idx]-h(train_x[idx],theta))**2\n",
        "        err += sum(np.absolute(theta))\n",
        "        err/= (val_set.size)        \n",
        "        err=err**0.5\n",
        "        rmse_models.append(err)\n",
        "    return theta,rmse_models           #return rmse values form 5 models\n",
        "\n",
        "\n",
        "iter=[5,10,20]\n",
        "\n",
        "# learning rate=0.001 and lembda=0.01\n",
        "for i in range(len(iter)):\n",
        "    w2,rmse=lasso(0.001,iter[i],0.01)\n",
        "    sns.scatterplot(x=iter[i],y=rmse)\n",
        "    print(rmse)\n",
        "\n",
        "plt.xlabel(\"iterations\")\n",
        "plt.ylabel(\"RMSE\")\n",
        "plt.title(\"Iterations vs RMSE for L1\")\n",
        "plt.show()\n",
        "\n",
        "\n"
      ],
      "metadata": {
        "colab": {
          "base_uri": "https://localhost:8080/",
          "height": 347
        },
        "id": "C-u5ttcgp8t3",
        "outputId": "aacc48b7-f991-42bc-8e3a-60e6b66c056e"
      },
      "id": "C-u5ttcgp8t3",
      "execution_count": null,
      "outputs": [
        {
          "output_type": "stream",
          "name": "stdout",
          "text": [
            "[2.608373651656779, 2.744099133477272, 2.559582086798892, 2.399170428037917, 2.5009724981882484]\n",
            "[2.5625596674749485, 2.663374466798703, 2.4526525287863716, 2.288361533846788, 2.3760833078122805]\n",
            "[2.4995784790849984, 2.5440110841358097, 2.3257467852350007, 2.1926329294449096, 2.2856150514768085]\n"
          ]
        },
        {
          "output_type": "display_data",
          "data": {
            "image/png": "[encoded data removed]",
            "text/plain": [
              "<Figure size 432x288 with 1 Axes>"
            ]
          },
          "metadata": {
            "needs_background": "light"
          }
        }
      ]
    },
    {
      "cell_type": "code",
      "execution_count": null,
      "id": "b648ed22",
      "metadata": {
        "colab": {
          "base_uri": "https://localhost:8080/",
          "height": 347
        },
        "id": "b648ed22",
        "outputId": "ea60b390-1fea-4d77-fc85-31e80cc03d8f"
      },
      "outputs": [
        {
          "output_type": "stream",
          "name": "stdout",
          "text": [
            "[2.6715554748372603, 2.8215817480752228, 2.651694033252137, 2.508268720032833, 2.6134616082446844]\n",
            "[2.64094776365126, 2.765906077542455, 2.576164730569984, 2.451098712959173, 2.5628554554999603]\n",
            "[2.6030095600761816, 2.6978272627029454, 2.5618555177884863, 2.622705914558639, 2.936865756738627]\n"
          ]
        },
        {
          "output_type": "display_data",
          "data": {
            "image/png": "[encoded data removed]",
            "text/plain": [
              "<Figure size 432x288 with 1 Axes>"
            ]
          },
          "metadata": {
            "needs_background": "light"
          }
        }
      ],
      "source": [
        "                                              #ridge regression\n",
        "\n",
        "# k-fold Linear regression\n",
        "def ridge(alpha,num_iteration,lemda):\n",
        "    rmse_models=[]\n",
        "    theta=np.zeros(col_x)\n",
        "    for train_set,val_set in kf.split(train_x):  \n",
        "        for itr_num in range(num_iteration):\n",
        "            for j in range(col_x):\n",
        "                grad_desc=0\n",
        "                for idx in train_set:\n",
        "                    grad_desc+= (train_y[idx]-h(train_x[idx],theta))*train_x[idx][j]\n",
        "                theta[j]= theta[j] + (alpha*grad_desc) - lemda*theta[j]\n",
        "            # cost function\n",
        "            # cost=0\n",
        "            # for idx in train_set:\n",
        "            #     cost+= (train_y[idx]-h(train_x[idx],theta))**2 \n",
        "            # cost += lemda*sum(np.absolute(theta))\n",
        "            # cost /= train_set.size\n",
        "            # print(\"cost for itr \",itr_num,\"= \",cost)\n",
        "        \n",
        "        \n",
        "        # rmse from validation set\n",
        "        err=0\n",
        "        for idx in val_set:\n",
        "            err+= (train_y[idx]-h(train_x[idx],theta))**2\n",
        "        err += sum(np.square(theta))\n",
        "        err/= (val_set.size)        \n",
        "        err=err**0.5\n",
        "        rmse_models.append(err)\n",
        "    return theta,rmse_models           #return rmse values form 5 models\n",
        "\n",
        "\n",
        "iter=[5,10,20]\n",
        "error=[]\n",
        "\n",
        "# learning rate=0.001 and lembda=0.01\n",
        "for i in range(len(iter)):\n",
        "    w3,rmse= ridge(0.001,iter[i],0.01)\n",
        "    sns.scatterplot(x=iter[i],y=rmse)\n",
        "    print(rmse)\n",
        "\n",
        "plt.xlabel(\"iterations\")\n",
        "plt.ylabel(\"RMSE\")\n",
        "plt.title(\"Iterations vs RMSE for L2\")\n",
        "plt.show()\n",
        "\n",
        "\n",
        "\n"
      ]
    },
    {
      "cell_type": "code",
      "source": [
        ""
      ],
      "metadata": {
        "id": "6-zkITtNnzyW"
      },
      "id": "6-zkITtNnzyW",
      "execution_count": null,
      "outputs": []
    },
    {
      "cell_type": "markdown",
      "id": "aa3be01e",
      "metadata": {
        "id": "aa3be01e"
      },
      "source": [
        "###                                        **Q2. c**\n",
        "                                                           "
      ]
    },
    {
      "cell_type": "code",
      "execution_count": null,
      "id": "082d62ff",
      "metadata": {
        "id": "082d62ff",
        "colab": {
          "base_uri": "https://localhost:8080/",
          "height": 281
        },
        "outputId": "13227ddf-1d6f-47bc-a682-d6398c4dda06"
      },
      "outputs": [
        {
          "output_type": "display_data",
          "data": {
            "image/png": "[encoded data removed]",
            "text/plain": [
              "<Figure size 432x288 with 1 Axes>"
            ]
          },
          "metadata": {
            "needs_background": "light"
          }
        }
      ],
      "source": [
        "from sklearn.metrics import mean_squared_error\n",
        "\n",
        "# test_acc=0\n",
        "# for i in range(len(test_x)):\n",
        "#   test_acc+=(test_y[i]-h(test_x[i],w1))**2\n",
        "# test_acc/= test_x.shape[0]\n",
        "plt.bar(0,mean_squared_error(test_y,test_x@w1),0.25)\n",
        "\n",
        "# test_acc=0\n",
        "# for i in range(len(test_x)):\n",
        "#   test_acc+=(test_y[i]-h(test_x[i],w2))**2\n",
        "# test_acc/= test_x.shape[0]\n",
        "plt.bar(1,mean_squared_error(test_y,test_x@w2),0.25)\n",
        "\n",
        "# test_acc=0\n",
        "# for i in range(len(test_x)):\n",
        "#   test_acc+=(test_y[i]-h(test_x[i],w3))**2\n",
        "# test_acc/= test_x.shape[0]\n",
        "plt.bar(2,mean_squared_error(test_y,test_x@w3),0.25)\n",
        "\n",
        "plt.xticks([0,1,2],[\"without\",\"L1\",\"L2\"])\n",
        "plt.title(\"test set mse\")\n",
        "plt.show()\n"
      ]
    },
    {
      "cell_type": "markdown",
      "source": [
        "### **Q2. d**"
      ],
      "metadata": {
        "id": "HSCVjv1F9Xkm"
      },
      "id": "HSCVjv1F9Xkm"
    },
    {
      "cell_type": "code",
      "source": [
        "\n",
        "from sklearn.linear_model import LinearRegression\n",
        "from sklearn.linear_model import Lasso\n",
        "from sklearn.linear_model import Ridge\n",
        "from sklearn.metrics import mean_squared_error\n",
        "from sklearn.model_selection import KFold\n",
        "from sklearn.model_selection import train_test_split\n",
        "from sklearn.preprocessing import StandardScaler\n",
        "import pandas as pd\n",
        "import matplotlib.pyplot as plt\n",
        "import numpy as np\n",
        "import seaborn as sns\n",
        "\n",
        "df=pd.read_csv(r'/content/drive/MyDrive/ML Data/abalone.data',names=['sex','length','diameter','height','whole height','shucked height','viscera height','shell weight','rings'])\n",
        "df_feature=df.iloc[:,:-1]\n",
        "df_feature=pd.get_dummies(df_feature)\n",
        "df_label=df.iloc[:,-1]\n",
        "#spliting data- 10% test and 90% training set\n",
        "train_x,test_x,train_y,test_y= train_test_split(df_feature,df_label,test_size=0.1,shuffle=False)\n",
        "\n",
        "cols= [\"length\",\"diameter\",\"height\",\"whole height\",\"shucked height\",\"viscera height\",\"shell weight\"]\n",
        "# #standardizing test & data set\n",
        "# for i in cols:\n",
        "#   stand= StandardScaler().fit(train_x[[i]])\n",
        "#   train_x[i]=stand.transform(train_x[[i]])\n",
        "#   test_x[i]=stand.transform(test_x[[i]])\n",
        "\n",
        "train_x=np.array(train_x)\n",
        "train_y=np.array(train_y)\n",
        "test_x=np.array(test_x)\n",
        "test_y=np.array(test_y)\n",
        "\n",
        "\n",
        "\n",
        "# for train_idx, val_idx in kf.split(train_x):\n",
        "#     x_train , x_val = train_x[train_idx,:],train_x[val_idx,:]\n",
        "#     y_train , y_val = train_y[train_idx] , train_y[val_idx]\n",
        "\n",
        "#     model=LinearRegression()\n",
        "#     model.fit(x_train,y_train)\n",
        "#     mse=mean_squared_error(y_val,model.predict(x_val))\n",
        "#     if(mse<err1):\n",
        "#       err1=mse\n",
        "#       model1=model\n",
        "\n",
        "#     model=Lasso(alpha=0.01)\n",
        "#     model.fit(x_train,y_train)\n",
        "#     mse=mean_squared_error(y_val,model.predict(x_val))\n",
        "#     if(mse<err2):\n",
        "#       err2=mse\n",
        "#       model2=model\n",
        "\n",
        "#     model=Ridge(alpha=1)\n",
        "#     model.fit(x_train,y_train)\n",
        "#     mse=mean_squared_error(y_val,model.predict(x_val))\n",
        "#     if(mse<err3):\n",
        "#       err3=mse\n",
        "#       model3=model\n",
        "model1= LinearRegression().fit(train_x,train_y)\n",
        "model2= Lasso(alpha=0.001).fit(train_x,train_y)\n",
        "model3= Ridge(alpha=2).fit(train_x,train_y)\n",
        "\n",
        "test_err=mean_squared_error(test_y,model1.predict(test_x))\n",
        "print(\"test err for model1=\",test_err)\n",
        "plt.bar(0,test_err,0.25)\n",
        "test_err=mean_squared_error(test_y,model2.predict(test_x))\n",
        "print(\"test err for model2=\",test_err)\n",
        "plt.bar(1,test_err,0.25)\n",
        "test_err=mean_squared_error(test_y,model3.predict(test_x))\n",
        "print(\"test err for model3=\",test_err)\n",
        "plt.bar(2,test_err,0.25)\n",
        "\n",
        "plt.xticks([0,1,2],[\"without\",\"L1\",\"L2\"])\n",
        "plt.title(\"test set mse using sklearn\")\n",
        "plt.show()\n"
      ],
      "metadata": {
        "colab": {
          "base_uri": "https://localhost:8080/",
          "height": 333
        },
        "id": "05R9sOQI6dbd",
        "outputId": "f0ae3c78-5a95-4a79-9e5d-cf123fc066b0"
      },
      "id": "05R9sOQI6dbd",
      "execution_count": null,
      "outputs": [
        {
          "output_type": "stream",
          "name": "stdout",
          "text": [
            "test err for model1= 4.317161450545753\n",
            "test err for model2= 4.27164341371575\n",
            "test err for model3= 4.277280780647273\n"
          ]
        },
        {
          "output_type": "display_data",
          "data": {
            "image/png": "[encoded data removed]",
            "text/plain": [
              "<Figure size 432x288 with 1 Axes>"
            ]
          },
          "metadata": {
            "needs_background": "light"
          }
        }
      ]
    },
    {
      "cell_type": "markdown",
      "source": [
        "### **Q2. e**"
      ],
      "metadata": {
        "id": "MvzL6_EkEYoq"
      },
      "id": "MvzL6_EkEYoq"
    },
    {
      "cell_type": "code",
      "source": [
        "\n",
        "modeli=0\n",
        "for train_idx, val_idx in kf.split(train_x):\n",
        "  modeli+=1\n",
        "  x_train , x_val = train_x[train_idx,:],train_x[val_idx,:]\n",
        "  y_train , y_val = train_y[train_idx] , train_y[val_idx]\n",
        "\n",
        "  # normal equation (closed form) for linear regression\n",
        "  theta= np.linalg.inv(np.transpose(x_train)@x_train)@np.transpose(x_train)@y_train\n",
        "  mse = mean_squared_error(y_val,x_val@theta)\n",
        "  print(\"mse for model\",modeli,\" = \",mse)\n",
        "\n",
        "\n",
        "\n"
      ],
      "metadata": {
        "colab": {
          "base_uri": "https://localhost:8080/"
        },
        "id": "N1YHrjFXAkL7",
        "outputId": "e76610e4-96d0-41d6-f915-90e979da983b"
      },
      "id": "N1YHrjFXAkL7",
      "execution_count": null,
      "outputs": [
        {
          "output_type": "stream",
          "name": "stdout",
          "text": [
            "mse for model 1  =  5.0040500253146725\n",
            "mse for model 2  =  5.018084909369004\n",
            "mse for model 3  =  4.783313929136972\n",
            "mse for model 4  =  5.252756282087939\n",
            "mse for model 5  =  4.608845587491214\n"
          ]
        }
      ]
    },
    {
      "cell_type": "code",
      "source": [
        ""
      ],
      "metadata": {
        "id": "oYIPPDSwHYJU"
      },
      "id": "oYIPPDSwHYJU",
      "execution_count": null,
      "outputs": []
    }
  ],
  "metadata": {
    "kernelspec": {
      "display_name": "Python 3 (ipykernel)",
      "language": "python",
      "name": "python3"
    },
    "language_info": {
      "codemirror_mode": {
        "name": "ipython",
        "version": 3
      },
      "file_extension": ".py",
      "mimetype": "text/x-python",
      "name": "python",
      "nbconvert_exporter": "python",
      "pygments_lexer": "ipython3",
      "version": "3.10.2"
    },
    "colab": {
      "name": "Q1&2.ipynb",
      "provenance": [],
      "collapsed_sections": []
    }
  },
  "nbformat": 4,
  "nbformat_minor": 5
}